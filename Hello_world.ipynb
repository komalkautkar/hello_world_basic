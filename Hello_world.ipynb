{
 "cells": [
  {
   "cell_type": "code",
   "execution_count": 1,
   "id": "e98a4a17",
   "metadata": {},
   "outputs": [
    {
     "name": "stdout",
     "output_type": "stream",
     "text": [
      "Hello World\n"
     ]
    }
   ],
   "source": [
    "print(\"Hello World\")"
   ]
  },
  {
   "cell_type": "code",
   "execution_count": 2,
   "id": "997101e2",
   "metadata": {},
   "outputs": [
    {
     "name": "stdout",
     "output_type": "stream",
     "text": [
      "komal kautkar\n"
     ]
    }
   ],
   "source": [
    "print(\"komal kautkar\")"
   ]
  },
  {
   "cell_type": "code",
   "execution_count": 3,
   "id": "bc3578fb",
   "metadata": {},
   "outputs": [
    {
     "name": "stdout",
     "output_type": "stream",
     "text": [
      "komal\n"
     ]
    }
   ],
   "source": [
    "print('komal')"
   ]
  },
  {
   "cell_type": "markdown",
   "id": "1ae49a27",
   "metadata": {},
   "source": [
    "### print hello world"
   ]
  },
  {
   "cell_type": "code",
   "execution_count": 4,
   "id": "b80d53cd",
   "metadata": {},
   "outputs": [
    {
     "ename": "NameError",
     "evalue": "name 'komal' is not defined",
     "output_type": "error",
     "traceback": [
      "\u001b[1;31m---------------------------------------------------------------------------\u001b[0m",
      "\u001b[1;31mNameError\u001b[0m                                 Traceback (most recent call last)",
      "Cell \u001b[1;32mIn[4], line 1\u001b[0m\n\u001b[1;32m----> 1\u001b[0m \u001b[38;5;28mprint\u001b[39m(komal)\n",
      "\u001b[1;31mNameError\u001b[0m: name 'komal' is not defined"
     ]
    }
   ],
   "source": [
    "print(komal)"
   ]
  },
  {
   "cell_type": "markdown",
   "id": "f4690b26",
   "metadata": {},
   "source": [
    "#### print hello"
   ]
  },
  {
   "cell_type": "code",
   "execution_count": null,
   "id": "e4bd8435",
   "metadata": {},
   "outputs": [],
   "source": []
  }
 ],
 "metadata": {
  "kernelspec": {
   "display_name": "Python 3 (ipykernel)",
   "language": "python",
   "name": "python3"
  },
  "language_info": {
   "codemirror_mode": {
    "name": "ipython",
    "version": 3
   },
   "file_extension": ".py",
   "mimetype": "text/x-python",
   "name": "python",
   "nbconvert_exporter": "python",
   "pygments_lexer": "ipython3",
   "version": "3.11.5"
  }
 },
 "nbformat": 4,
 "nbformat_minor": 5
}
